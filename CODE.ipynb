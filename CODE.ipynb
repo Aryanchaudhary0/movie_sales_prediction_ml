{
 "cells": [
  {
   "cell_type": "markdown",
   "id": "ef7a7e1f-1f84-4de7-8d6b-029d7d1ebb0f",
   "metadata": {},
   "source": [
    "## Importing Libraries"
   ]
  },
  {
   "cell_type": "code",
   "execution_count": 1,
   "id": "4b07df1b-5e6a-458a-b7d2-692e5bcb2b01",
   "metadata": {},
   "outputs": [],
   "source": [
    "import numpy as np\n",
    "import pandas as pd\n",
    "import seaborn as sns"
   ]
  },
  {
   "cell_type": "markdown",
   "id": "ef54f77c-f4d9-4535-80ba-ead43a374f46",
   "metadata": {},
   "source": [
    "## Loading Dataset"
   ]
  },
  {
   "cell_type": "code",
   "execution_count": 3,
   "id": "f081f8b5-4dcb-43ff-9a74-abd403564452",
   "metadata": {},
   "outputs": [],
   "source": [
    "dataset=pd.read_csv('movies.csv')"
   ]
  },
  {
   "cell_type": "markdown",
   "id": "6aa9a270-b428-4966-b172-31db7089e0c1",
   "metadata": {},
   "source": [
    "## Data Preprocessing"
   ]
  },
  {
   "cell_type": "code",
   "execution_count": 4,
   "id": "6a433cf9-6917-4255-97eb-039557a4c274",
   "metadata": {},
   "outputs": [
    {
     "data": {
      "text/html": [
       "<div>\n",
       "<style scoped>\n",
       "    .dataframe tbody tr th:only-of-type {\n",
       "        vertical-align: middle;\n",
       "    }\n",
       "\n",
       "    .dataframe tbody tr th {\n",
       "        vertical-align: top;\n",
       "    }\n",
       "\n",
       "    .dataframe thead th {\n",
       "        text-align: right;\n",
       "    }\n",
       "</style>\n",
       "<table border=\"1\" class=\"dataframe\">\n",
       "  <thead>\n",
       "    <tr style=\"text-align: right;\">\n",
       "      <th></th>\n",
       "      <th>index</th>\n",
       "      <th>MovieID</th>\n",
       "      <th>Title</th>\n",
       "      <th>MPAA Rating</th>\n",
       "      <th>Budget</th>\n",
       "      <th>Gross</th>\n",
       "      <th>Release Date</th>\n",
       "      <th>Genre</th>\n",
       "      <th>Runtime</th>\n",
       "      <th>Rating</th>\n",
       "      <th>Rating Count</th>\n",
       "      <th>Summary</th>\n",
       "    </tr>\n",
       "  </thead>\n",
       "  <tbody>\n",
       "    <tr>\n",
       "      <th>0</th>\n",
       "      <td>0</td>\n",
       "      <td>1</td>\n",
       "      <td>Look Who's Talking</td>\n",
       "      <td>PG-13</td>\n",
       "      <td>7500000</td>\n",
       "      <td>296000000</td>\n",
       "      <td>1989-10-12</td>\n",
       "      <td>Romance</td>\n",
       "      <td>93</td>\n",
       "      <td>5.9</td>\n",
       "      <td>73638</td>\n",
       "      <td>After a single, career-minded woman is left on...</td>\n",
       "    </tr>\n",
       "    <tr>\n",
       "      <th>1</th>\n",
       "      <td>1</td>\n",
       "      <td>2</td>\n",
       "      <td>Driving Miss Daisy</td>\n",
       "      <td>PG</td>\n",
       "      <td>7500000</td>\n",
       "      <td>145793296</td>\n",
       "      <td>1989-12-13</td>\n",
       "      <td>Comedy</td>\n",
       "      <td>99</td>\n",
       "      <td>7.4</td>\n",
       "      <td>91075</td>\n",
       "      <td>An old Jewish woman and her African-American c...</td>\n",
       "    </tr>\n",
       "    <tr>\n",
       "      <th>2</th>\n",
       "      <td>2</td>\n",
       "      <td>3</td>\n",
       "      <td>Turner &amp; Hooch</td>\n",
       "      <td>PG</td>\n",
       "      <td>13000000</td>\n",
       "      <td>71079915</td>\n",
       "      <td>1989-07-28</td>\n",
       "      <td>Crime</td>\n",
       "      <td>100</td>\n",
       "      <td>7.2</td>\n",
       "      <td>91415</td>\n",
       "      <td>Det. Scott Turner (Tom Hanks) is an uptight, b...</td>\n",
       "    </tr>\n",
       "    <tr>\n",
       "      <th>3</th>\n",
       "      <td>3</td>\n",
       "      <td>4</td>\n",
       "      <td>Born on the Fourth of July</td>\n",
       "      <td>R</td>\n",
       "      <td>14000000</td>\n",
       "      <td>161001698</td>\n",
       "      <td>1989-12-20</td>\n",
       "      <td>War</td>\n",
       "      <td>145</td>\n",
       "      <td>7.2</td>\n",
       "      <td>91415</td>\n",
       "      <td>The biography of Ron Kovic. Paralyzed in the V...</td>\n",
       "    </tr>\n",
       "    <tr>\n",
       "      <th>4</th>\n",
       "      <td>4</td>\n",
       "      <td>5</td>\n",
       "      <td>Field of Dreams</td>\n",
       "      <td>PG</td>\n",
       "      <td>15000000</td>\n",
       "      <td>84431625</td>\n",
       "      <td>1989-04-21</td>\n",
       "      <td>Drama</td>\n",
       "      <td>107</td>\n",
       "      <td>7.5</td>\n",
       "      <td>101702</td>\n",
       "      <td>An Iowa corn farmer, hearing voices, interpret...</td>\n",
       "    </tr>\n",
       "  </tbody>\n",
       "</table>\n",
       "</div>"
      ],
      "text/plain": [
       "   index MovieID                       Title MPAA Rating    Budget      Gross  \\\n",
       "0      0       1          Look Who's Talking       PG-13   7500000  296000000   \n",
       "1      1       2          Driving Miss Daisy          PG   7500000  145793296   \n",
       "2      2       3              Turner & Hooch          PG  13000000   71079915   \n",
       "3      3       4  Born on the Fourth of July           R  14000000  161001698   \n",
       "4      4       5             Field of Dreams          PG  15000000   84431625   \n",
       "\n",
       "  Release Date    Genre Runtime Rating Rating Count  \\\n",
       "0   1989-10-12  Romance      93    5.9        73638   \n",
       "1   1989-12-13   Comedy      99    7.4        91075   \n",
       "2   1989-07-28    Crime     100    7.2        91415   \n",
       "3   1989-12-20      War     145    7.2        91415   \n",
       "4   1989-04-21    Drama     107    7.5       101702   \n",
       "\n",
       "                                             Summary  \n",
       "0  After a single, career-minded woman is left on...  \n",
       "1  An old Jewish woman and her African-American c...  \n",
       "2  Det. Scott Turner (Tom Hanks) is an uptight, b...  \n",
       "3  The biography of Ron Kovic. Paralyzed in the V...  \n",
       "4  An Iowa corn farmer, hearing voices, interpret...  "
      ]
     },
     "execution_count": 4,
     "metadata": {},
     "output_type": "execute_result"
    }
   ],
   "source": [
    "dataset=dataset.head(500)\n",
    "dataset=dataset.dropna()\n",
    "dataset.drop_duplicates(inplace = True)\n",
    "dataset.reset_index(drop=True, inplace=True)\n",
    "dataset.head(5)"
   ]
  },
  {
   "cell_type": "markdown",
   "id": "e42d77ab-f139-48e5-a679-86aa466f646a",
   "metadata": {},
   "source": [
    "## Dividing Dataset into Dependent and Independent Sets"
   ]
  },
  {
   "cell_type": "code",
   "execution_count": 5,
   "id": "442ff1d0-c0e5-4e9e-8961-309d2cb4bfb0",
   "metadata": {},
   "outputs": [
    {
     "data": {
      "text/html": [
       "<div>\n",
       "<style scoped>\n",
       "    .dataframe tbody tr th:only-of-type {\n",
       "        vertical-align: middle;\n",
       "    }\n",
       "\n",
       "    .dataframe tbody tr th {\n",
       "        vertical-align: top;\n",
       "    }\n",
       "\n",
       "    .dataframe thead th {\n",
       "        text-align: right;\n",
       "    }\n",
       "</style>\n",
       "<table border=\"1\" class=\"dataframe\">\n",
       "  <thead>\n",
       "    <tr style=\"text-align: right;\">\n",
       "      <th></th>\n",
       "      <th>MPAA Rating</th>\n",
       "      <th>Budget</th>\n",
       "      <th>Genre</th>\n",
       "      <th>Runtime</th>\n",
       "      <th>Rating</th>\n",
       "    </tr>\n",
       "  </thead>\n",
       "  <tbody>\n",
       "    <tr>\n",
       "      <th>0</th>\n",
       "      <td>PG-13</td>\n",
       "      <td>7500000</td>\n",
       "      <td>Romance</td>\n",
       "      <td>93</td>\n",
       "      <td>5.9</td>\n",
       "    </tr>\n",
       "    <tr>\n",
       "      <th>1</th>\n",
       "      <td>PG</td>\n",
       "      <td>7500000</td>\n",
       "      <td>Comedy</td>\n",
       "      <td>99</td>\n",
       "      <td>7.4</td>\n",
       "    </tr>\n",
       "    <tr>\n",
       "      <th>2</th>\n",
       "      <td>PG</td>\n",
       "      <td>13000000</td>\n",
       "      <td>Crime</td>\n",
       "      <td>100</td>\n",
       "      <td>7.2</td>\n",
       "    </tr>\n",
       "    <tr>\n",
       "      <th>3</th>\n",
       "      <td>R</td>\n",
       "      <td>14000000</td>\n",
       "      <td>War</td>\n",
       "      <td>145</td>\n",
       "      <td>7.2</td>\n",
       "    </tr>\n",
       "    <tr>\n",
       "      <th>4</th>\n",
       "      <td>PG</td>\n",
       "      <td>15000000</td>\n",
       "      <td>Drama</td>\n",
       "      <td>107</td>\n",
       "      <td>7.5</td>\n",
       "    </tr>\n",
       "  </tbody>\n",
       "</table>\n",
       "</div>"
      ],
      "text/plain": [
       "  MPAA Rating    Budget    Genre Runtime Rating\n",
       "0       PG-13   7500000  Romance      93    5.9\n",
       "1          PG   7500000   Comedy      99    7.4\n",
       "2          PG  13000000    Crime     100    7.2\n",
       "3           R  14000000      War     145    7.2\n",
       "4          PG  15000000    Drama     107    7.5"
      ]
     },
     "execution_count": 5,
     "metadata": {},
     "output_type": "execute_result"
    }
   ],
   "source": [
    "independent=pd.DataFrame(dataset.iloc[:,[3,4,7,8,9]])\n",
    "independent.head(5)"
   ]
  },
  {
   "cell_type": "code",
   "execution_count": 6,
   "id": "3909c8c4-cc2b-40d6-8ab9-77e67c7074e2",
   "metadata": {},
   "outputs": [
    {
     "data": {
      "text/html": [
       "<div>\n",
       "<style scoped>\n",
       "    .dataframe tbody tr th:only-of-type {\n",
       "        vertical-align: middle;\n",
       "    }\n",
       "\n",
       "    .dataframe tbody tr th {\n",
       "        vertical-align: top;\n",
       "    }\n",
       "\n",
       "    .dataframe thead th {\n",
       "        text-align: right;\n",
       "    }\n",
       "</style>\n",
       "<table border=\"1\" class=\"dataframe\">\n",
       "  <thead>\n",
       "    <tr style=\"text-align: right;\">\n",
       "      <th></th>\n",
       "      <th>Gross</th>\n",
       "    </tr>\n",
       "  </thead>\n",
       "  <tbody>\n",
       "    <tr>\n",
       "      <th>0</th>\n",
       "      <td>296000000</td>\n",
       "    </tr>\n",
       "    <tr>\n",
       "      <th>1</th>\n",
       "      <td>145793296</td>\n",
       "    </tr>\n",
       "    <tr>\n",
       "      <th>2</th>\n",
       "      <td>71079915</td>\n",
       "    </tr>\n",
       "    <tr>\n",
       "      <th>3</th>\n",
       "      <td>161001698</td>\n",
       "    </tr>\n",
       "    <tr>\n",
       "      <th>4</th>\n",
       "      <td>84431625</td>\n",
       "    </tr>\n",
       "  </tbody>\n",
       "</table>\n",
       "</div>"
      ],
      "text/plain": [
       "       Gross\n",
       "0  296000000\n",
       "1  145793296\n",
       "2   71079915\n",
       "3  161001698\n",
       "4   84431625"
      ]
     },
     "execution_count": 6,
     "metadata": {},
     "output_type": "execute_result"
    }
   ],
   "source": [
    "dependent=pd.DataFrame(dataset.iloc[:,5])\n",
    "dependent.head(5)"
   ]
  },
  {
   "cell_type": "markdown",
   "id": "ecc439a8-4a09-473d-b75f-ad6359d1730e",
   "metadata": {},
   "source": [
    "\n",
    "## Type Casting Independent Variables"
   ]
  },
  {
   "cell_type": "code",
   "execution_count": 7,
   "id": "f4cae6af-d8af-425e-afce-95830ea6bd98",
   "metadata": {},
   "outputs": [
    {
     "data": {
      "text/html": [
       "<div>\n",
       "<style scoped>\n",
       "    .dataframe tbody tr th:only-of-type {\n",
       "        vertical-align: middle;\n",
       "    }\n",
       "\n",
       "    .dataframe tbody tr th {\n",
       "        vertical-align: top;\n",
       "    }\n",
       "\n",
       "    .dataframe thead th {\n",
       "        text-align: right;\n",
       "    }\n",
       "</style>\n",
       "<table border=\"1\" class=\"dataframe\">\n",
       "  <thead>\n",
       "    <tr style=\"text-align: right;\">\n",
       "      <th></th>\n",
       "      <th>MPAA Rating</th>\n",
       "      <th>Budget</th>\n",
       "      <th>Genre</th>\n",
       "      <th>Runtime</th>\n",
       "      <th>Rating</th>\n",
       "    </tr>\n",
       "  </thead>\n",
       "  <tbody>\n",
       "    <tr>\n",
       "      <th>0</th>\n",
       "      <td>1</td>\n",
       "      <td>0.75</td>\n",
       "      <td>1</td>\n",
       "      <td>93</td>\n",
       "      <td>5.9</td>\n",
       "    </tr>\n",
       "    <tr>\n",
       "      <th>1</th>\n",
       "      <td>2</td>\n",
       "      <td>0.75</td>\n",
       "      <td>2</td>\n",
       "      <td>99</td>\n",
       "      <td>7.4</td>\n",
       "    </tr>\n",
       "    <tr>\n",
       "      <th>2</th>\n",
       "      <td>2</td>\n",
       "      <td>1.30</td>\n",
       "      <td>3</td>\n",
       "      <td>100</td>\n",
       "      <td>7.2</td>\n",
       "    </tr>\n",
       "    <tr>\n",
       "      <th>3</th>\n",
       "      <td>3</td>\n",
       "      <td>1.40</td>\n",
       "      <td>4</td>\n",
       "      <td>145</td>\n",
       "      <td>7.2</td>\n",
       "    </tr>\n",
       "    <tr>\n",
       "      <th>4</th>\n",
       "      <td>2</td>\n",
       "      <td>1.50</td>\n",
       "      <td>5</td>\n",
       "      <td>107</td>\n",
       "      <td>7.5</td>\n",
       "    </tr>\n",
       "  </tbody>\n",
       "</table>\n",
       "</div>"
      ],
      "text/plain": [
       "   MPAA Rating  Budget  Genre  Runtime  Rating\n",
       "0            1    0.75      1       93     5.9\n",
       "1            2    0.75      2       99     7.4\n",
       "2            2    1.30      3      100     7.2\n",
       "3            3    1.40      4      145     7.2\n",
       "4            2    1.50      5      107     7.5"
      ]
     },
     "execution_count": 7,
     "metadata": {},
     "output_type": "execute_result"
    }
   ],
   "source": [
    "independent['Genre'] = independent['Genre'].replace(['Romance'], 1)\n",
    "independent['Genre'] = independent['Genre'].replace(['Comedy'], 2)\n",
    "independent['Genre'] = independent['Genre'].replace(['Crime'], 3)\n",
    "independent['Genre'] = independent['Genre'].replace(['War'], 4)\n",
    "independent['Genre'] = independent['Genre'].replace(['Drama'], 5)\n",
    "independent['Genre'] = independent['Genre'].replace(['Family'], 6)\n",
    "independent['Genre'] = independent['Genre'].replace(['Action'], 7)\n",
    "independent['Genre'] = independent['Genre'].replace(['Animation'], 8)\n",
    "independent['Genre'] = independent['Genre'].replace(['Science Fiction'], 9)\n",
    "independent['Genre'] = independent['Genre'].replace(['Adventure'], 10)\n",
    "independent['Genre'] = independent['Genre'].replace(['Thriller'], 11)\n",
    "independent['Genre'] = independent['Genre'].replace(['Western'], 12)\n",
    "independent['Genre'] = independent['Genre'].replace(['Horror'], 13)\n",
    "independent['Genre'] = independent['Genre'].replace(['Mystery'], 14)\n",
    "independent['Genre'] = independent['Genre'].replace(['History'], 15)\n",
    "independent['Genre'] = independent['Genre'].replace(['Fantasy'], 16)\n",
    "independent=independent.astype({'Genre':int})\n",
    "independent['MPAA Rating'] = independent['MPAA Rating'].replace(['PG-13'], 1)\n",
    "independent['MPAA Rating'] = independent['MPAA Rating'].replace(['PG'], 2)\n",
    "independent['MPAA Rating'] = independent['MPAA Rating'].replace(['R'], 3)\n",
    "independent['MPAA Rating'] = independent['MPAA Rating'].replace(['G'], 4)\n",
    "independent=independent.astype({'MPAA Rating':int})\n",
    "independent=independent.astype({'Budget':int})\n",
    "independent=independent.astype({'Runtime':int})\n",
    "independent['Budget'] = independent['Budget'].div(10000000).round(2)\n",
    "independent=independent.astype({'Rating':float})\n",
    "independent.head(5)"
   ]
  },
  {
   "cell_type": "markdown",
   "id": "dcaaa545-e99a-4fec-9ac4-f896fef12c9c",
   "metadata": {},
   "source": [
    "## Type Casting Dependent Variables"
   ]
  },
  {
   "cell_type": "code",
   "execution_count": 8,
   "id": "413c4790-caa7-4aed-9901-0f62f80dd45e",
   "metadata": {},
   "outputs": [
    {
     "data": {
      "text/html": [
       "<div>\n",
       "<style scoped>\n",
       "    .dataframe tbody tr th:only-of-type {\n",
       "        vertical-align: middle;\n",
       "    }\n",
       "\n",
       "    .dataframe tbody tr th {\n",
       "        vertical-align: top;\n",
       "    }\n",
       "\n",
       "    .dataframe thead th {\n",
       "        text-align: right;\n",
       "    }\n",
       "</style>\n",
       "<table border=\"1\" class=\"dataframe\">\n",
       "  <thead>\n",
       "    <tr style=\"text-align: right;\">\n",
       "      <th></th>\n",
       "      <th>Gross</th>\n",
       "    </tr>\n",
       "  </thead>\n",
       "  <tbody>\n",
       "    <tr>\n",
       "      <th>0</th>\n",
       "      <td>2.96</td>\n",
       "    </tr>\n",
       "    <tr>\n",
       "      <th>1</th>\n",
       "      <td>1.46</td>\n",
       "    </tr>\n",
       "    <tr>\n",
       "      <th>2</th>\n",
       "      <td>0.71</td>\n",
       "    </tr>\n",
       "    <tr>\n",
       "      <th>3</th>\n",
       "      <td>1.61</td>\n",
       "    </tr>\n",
       "    <tr>\n",
       "      <th>4</th>\n",
       "      <td>0.84</td>\n",
       "    </tr>\n",
       "  </tbody>\n",
       "</table>\n",
       "</div>"
      ],
      "text/plain": [
       "   Gross\n",
       "0   2.96\n",
       "1   1.46\n",
       "2   0.71\n",
       "3   1.61\n",
       "4   0.84"
      ]
     },
     "execution_count": 8,
     "metadata": {},
     "output_type": "execute_result"
    }
   ],
   "source": [
    "dependent=dependent.astype({'Gross':np.int64})\n",
    "dependent['Gross'] = dependent['Gross'].div(100000000).round(2)\n",
    "dependent.head(5)"
   ]
  },
  {
   "cell_type": "markdown",
   "id": "bf5dafa2-3a5d-4b1b-b3cf-6e5a9aacbd35",
   "metadata": {},
   "source": [
    "## Data Visualization"
   ]
  },
  {
   "cell_type": "code",
   "execution_count": 9,
   "id": "606c2007-707b-4efc-8b3e-5ebc522b197f",
   "metadata": {},
   "outputs": [
    {
     "data": {
      "text/html": [
       "<div>\n",
       "<style scoped>\n",
       "    .dataframe tbody tr th:only-of-type {\n",
       "        vertical-align: middle;\n",
       "    }\n",
       "\n",
       "    .dataframe tbody tr th {\n",
       "        vertical-align: top;\n",
       "    }\n",
       "\n",
       "    .dataframe thead th {\n",
       "        text-align: right;\n",
       "    }\n",
       "</style>\n",
       "<table border=\"1\" class=\"dataframe\">\n",
       "  <thead>\n",
       "    <tr style=\"text-align: right;\">\n",
       "      <th></th>\n",
       "      <th>MPAA Rating</th>\n",
       "      <th>Budget</th>\n",
       "      <th>Genre</th>\n",
       "      <th>Runtime</th>\n",
       "      <th>Rating</th>\n",
       "    </tr>\n",
       "  </thead>\n",
       "  <tbody>\n",
       "    <tr>\n",
       "      <th>MPAA Rating</th>\n",
       "      <td>1.000000</td>\n",
       "      <td>-0.254817</td>\n",
       "      <td>-0.033107</td>\n",
       "      <td>-0.091529</td>\n",
       "      <td>0.118032</td>\n",
       "    </tr>\n",
       "    <tr>\n",
       "      <th>Budget</th>\n",
       "      <td>-0.254817</td>\n",
       "      <td>1.000000</td>\n",
       "      <td>0.391064</td>\n",
       "      <td>0.265073</td>\n",
       "      <td>0.015989</td>\n",
       "    </tr>\n",
       "    <tr>\n",
       "      <th>Genre</th>\n",
       "      <td>-0.033107</td>\n",
       "      <td>0.391064</td>\n",
       "      <td>1.000000</td>\n",
       "      <td>0.302188</td>\n",
       "      <td>0.201401</td>\n",
       "    </tr>\n",
       "    <tr>\n",
       "      <th>Runtime</th>\n",
       "      <td>-0.091529</td>\n",
       "      <td>0.265073</td>\n",
       "      <td>0.302188</td>\n",
       "      <td>1.000000</td>\n",
       "      <td>0.392557</td>\n",
       "    </tr>\n",
       "    <tr>\n",
       "      <th>Rating</th>\n",
       "      <td>0.118032</td>\n",
       "      <td>0.015989</td>\n",
       "      <td>0.201401</td>\n",
       "      <td>0.392557</td>\n",
       "      <td>1.000000</td>\n",
       "    </tr>\n",
       "  </tbody>\n",
       "</table>\n",
       "</div>"
      ],
      "text/plain": [
       "             MPAA Rating    Budget     Genre   Runtime    Rating\n",
       "MPAA Rating     1.000000 -0.254817 -0.033107 -0.091529  0.118032\n",
       "Budget         -0.254817  1.000000  0.391064  0.265073  0.015989\n",
       "Genre          -0.033107  0.391064  1.000000  0.302188  0.201401\n",
       "Runtime        -0.091529  0.265073  0.302188  1.000000  0.392557\n",
       "Rating          0.118032  0.015989  0.201401  0.392557  1.000000"
      ]
     },
     "execution_count": 9,
     "metadata": {},
     "output_type": "execute_result"
    }
   ],
   "source": [
    "independent.corr()"
   ]
  },
  {
   "cell_type": "markdown",
   "id": "e08e97d8-f9e5-433a-a913-89de51931415",
   "metadata": {},
   "source": [
    "## Train-Test Splitting"
   ]
  },
  {
   "cell_type": "code",
   "execution_count": 10,
   "id": "3597c51a-567c-4bc0-9cef-ebd32c3c0f25",
   "metadata": {},
   "outputs": [],
   "source": [
    "from sklearn.model_selection import train_test_split\n",
    "train_independent, test_independent, train_dependent, test_dependent=train_test_split(independent, dependent, test_size=0.3, random_state=1)"
   ]
  },
  {
   "cell_type": "markdown",
   "id": "ff23bc9b-56fe-4c1f-8b90-ee921dea92ca",
   "metadata": {},
   "source": [
    "## Training The Model"
   ]
  },
  {
   "cell_type": "code",
   "execution_count": 11,
   "id": "f19aeb5c-ee1c-42f5-8a55-79fe668fdb77",
   "metadata": {},
   "outputs": [
    {
     "name": "stderr",
     "output_type": "stream",
     "text": [
      "C:\\ProgramData\\anaconda3\\Lib\\site-packages\\sklearn\\utils\\validation.py:1184: DataConversionWarning: A column-vector y was passed when a 1d array was expected. Please change the shape of y to (n_samples, ), for example using ravel().\n",
      "  y = column_or_1d(y, warn=True)\n",
      "C:\\ProgramData\\anaconda3\\Lib\\site-packages\\sklearn\\base.py:1151: DataConversionWarning: A column-vector y was passed when a 1d array was expected. Please change the shape of y to (n_samples,), for example using ravel().\n",
      "  return fit_method(estimator, *args, **kwargs)\n",
      "C:\\ProgramData\\anaconda3\\Lib\\site-packages\\sklearn\\utils\\validation.py:1184: DataConversionWarning: A column-vector y was passed when a 1d array was expected. Please change the shape of y to (n_samples, ), for example using ravel().\n",
      "  y = column_or_1d(y, warn=True)\n"
     ]
    },
    {
     "data": {
      "text/html": [
       "<style>#sk-container-id-1 {color: black;}#sk-container-id-1 pre{padding: 0;}#sk-container-id-1 div.sk-toggleable {background-color: white;}#sk-container-id-1 label.sk-toggleable__label {cursor: pointer;display: block;width: 100%;margin-bottom: 0;padding: 0.3em;box-sizing: border-box;text-align: center;}#sk-container-id-1 label.sk-toggleable__label-arrow:before {content: \"▸\";float: left;margin-right: 0.25em;color: #696969;}#sk-container-id-1 label.sk-toggleable__label-arrow:hover:before {color: black;}#sk-container-id-1 div.sk-estimator:hover label.sk-toggleable__label-arrow:before {color: black;}#sk-container-id-1 div.sk-toggleable__content {max-height: 0;max-width: 0;overflow: hidden;text-align: left;background-color: #f0f8ff;}#sk-container-id-1 div.sk-toggleable__content pre {margin: 0.2em;color: black;border-radius: 0.25em;background-color: #f0f8ff;}#sk-container-id-1 input.sk-toggleable__control:checked~div.sk-toggleable__content {max-height: 200px;max-width: 100%;overflow: auto;}#sk-container-id-1 input.sk-toggleable__control:checked~label.sk-toggleable__label-arrow:before {content: \"▾\";}#sk-container-id-1 div.sk-estimator input.sk-toggleable__control:checked~label.sk-toggleable__label {background-color: #d4ebff;}#sk-container-id-1 div.sk-label input.sk-toggleable__control:checked~label.sk-toggleable__label {background-color: #d4ebff;}#sk-container-id-1 input.sk-hidden--visually {border: 0;clip: rect(1px 1px 1px 1px);clip: rect(1px, 1px, 1px, 1px);height: 1px;margin: -1px;overflow: hidden;padding: 0;position: absolute;width: 1px;}#sk-container-id-1 div.sk-estimator {font-family: monospace;background-color: #f0f8ff;border: 1px dotted black;border-radius: 0.25em;box-sizing: border-box;margin-bottom: 0.5em;}#sk-container-id-1 div.sk-estimator:hover {background-color: #d4ebff;}#sk-container-id-1 div.sk-parallel-item::after {content: \"\";width: 100%;border-bottom: 1px solid gray;flex-grow: 1;}#sk-container-id-1 div.sk-label:hover label.sk-toggleable__label {background-color: #d4ebff;}#sk-container-id-1 div.sk-serial::before {content: \"\";position: absolute;border-left: 1px solid gray;box-sizing: border-box;top: 0;bottom: 0;left: 50%;z-index: 0;}#sk-container-id-1 div.sk-serial {display: flex;flex-direction: column;align-items: center;background-color: white;padding-right: 0.2em;padding-left: 0.2em;position: relative;}#sk-container-id-1 div.sk-item {position: relative;z-index: 1;}#sk-container-id-1 div.sk-parallel {display: flex;align-items: stretch;justify-content: center;background-color: white;position: relative;}#sk-container-id-1 div.sk-item::before, #sk-container-id-1 div.sk-parallel-item::before {content: \"\";position: absolute;border-left: 1px solid gray;box-sizing: border-box;top: 0;bottom: 0;left: 50%;z-index: -1;}#sk-container-id-1 div.sk-parallel-item {display: flex;flex-direction: column;z-index: 1;position: relative;background-color: white;}#sk-container-id-1 div.sk-parallel-item:first-child::after {align-self: flex-end;width: 50%;}#sk-container-id-1 div.sk-parallel-item:last-child::after {align-self: flex-start;width: 50%;}#sk-container-id-1 div.sk-parallel-item:only-child::after {width: 0;}#sk-container-id-1 div.sk-dashed-wrapped {border: 1px dashed gray;margin: 0 0.4em 0.5em 0.4em;box-sizing: border-box;padding-bottom: 0.4em;background-color: white;}#sk-container-id-1 div.sk-label label {font-family: monospace;font-weight: bold;display: inline-block;line-height: 1.2em;}#sk-container-id-1 div.sk-label-container {text-align: center;}#sk-container-id-1 div.sk-container {/* jupyter's `normalize.less` sets `[hidden] { display: none; }` but bootstrap.min.css set `[hidden] { display: none !important; }` so we also need the `!important` here to be able to override the default hidden behavior on the sphinx rendered scikit-learn.org. See: https://github.com/scikit-learn/scikit-learn/issues/21755 */display: inline-block !important;position: relative;}#sk-container-id-1 div.sk-text-repr-fallback {display: none;}</style><div id=\"sk-container-id-1\" class=\"sk-top-container\"><div class=\"sk-text-repr-fallback\"><pre>SVR()</pre><b>In a Jupyter environment, please rerun this cell to show the HTML representation or trust the notebook. <br />On GitHub, the HTML representation is unable to render, please try loading this page with nbviewer.org.</b></div><div class=\"sk-container\" hidden><div class=\"sk-item\"><div class=\"sk-estimator sk-toggleable\"><input class=\"sk-toggleable__control sk-hidden--visually\" id=\"sk-estimator-id-1\" type=\"checkbox\" checked><label for=\"sk-estimator-id-1\" class=\"sk-toggleable__label sk-toggleable__label-arrow\">SVR</label><div class=\"sk-toggleable__content\"><pre>SVR()</pre></div></div></div></div></div>"
      ],
      "text/plain": [
       "SVR()"
      ]
     },
     "execution_count": 11,
     "metadata": {},
     "output_type": "execute_result"
    }
   ],
   "source": [
    "from sklearn.linear_model import BayesianRidge \n",
    "model_1 = BayesianRidge()\n",
    "model_1.fit(train_independent,train_dependent)\n",
    "from sklearn.linear_model import Lasso\n",
    "model_2=Lasso() \n",
    "model_2.fit(train_independent,train_dependent)\n",
    "from sklearn.linear_model import Ridge\n",
    "model_3=Ridge() \n",
    "model_3.fit(train_independent,train_dependent)\n",
    "from sklearn.linear_model import LinearRegression\n",
    "model_4=LinearRegression() \n",
    "model_4.fit(train_independent,train_dependent)\n",
    "from sklearn.ensemble import RandomForestRegressor\n",
    "model_5=RandomForestRegressor(n_estimators=100)\n",
    "model_5.fit(train_independent,train_dependent)\n",
    "from sklearn.linear_model import RANSACRegressor\n",
    "model_6=RANSACRegressor()\n",
    "model_6.fit(train_independent,train_dependent)\n",
    "from sklearn.svm import SVR\n",
    "model_7=SVR()\n",
    "model_7.fit(train_independent,train_dependent)"
   ]
  },
  {
   "cell_type": "markdown",
   "id": "ef708da7-0ac4-40d5-878c-3e16baaf126d",
   "metadata": {},
   "source": [
    "## Comparing the predicted value to the actual value"
   ]
  },
  {
   "cell_type": "code",
   "execution_count": 12,
   "id": "721bd0ab-c5c5-4252-8c00-b281d16e6c97",
   "metadata": {},
   "outputs": [
    {
     "name": "stderr",
     "output_type": "stream",
     "text": [
      "C:\\ProgramData\\anaconda3\\Lib\\site-packages\\sklearn\\base.py:464: UserWarning: X does not have valid feature names, but BayesianRidge was fitted with feature names\n",
      "  warnings.warn(\n",
      "C:\\ProgramData\\anaconda3\\Lib\\site-packages\\sklearn\\base.py:464: UserWarning: X does not have valid feature names, but Lasso was fitted with feature names\n",
      "  warnings.warn(\n",
      "C:\\ProgramData\\anaconda3\\Lib\\site-packages\\sklearn\\base.py:464: UserWarning: X does not have valid feature names, but Ridge was fitted with feature names\n",
      "  warnings.warn(\n",
      "C:\\ProgramData\\anaconda3\\Lib\\site-packages\\sklearn\\base.py:464: UserWarning: X does not have valid feature names, but LinearRegression was fitted with feature names\n",
      "  warnings.warn(\n",
      "C:\\ProgramData\\anaconda3\\Lib\\site-packages\\sklearn\\base.py:464: UserWarning: X does not have valid feature names, but RandomForestRegressor was fitted with feature names\n",
      "  warnings.warn(\n",
      "C:\\ProgramData\\anaconda3\\Lib\\site-packages\\sklearn\\base.py:464: UserWarning: X does not have valid feature names, but RANSACRegressor was fitted with feature names\n",
      "  warnings.warn(\n",
      "C:\\ProgramData\\anaconda3\\Lib\\site-packages\\sklearn\\base.py:464: UserWarning: X does not have valid feature names, but SVR was fitted with feature names\n",
      "  warnings.warn(\n"
     ]
    },
    {
     "data": {
      "text/html": [
       "<div>\n",
       "<style scoped>\n",
       "    .dataframe tbody tr th:only-of-type {\n",
       "        vertical-align: middle;\n",
       "    }\n",
       "\n",
       "    .dataframe tbody tr th {\n",
       "        vertical-align: top;\n",
       "    }\n",
       "\n",
       "    .dataframe thead th {\n",
       "        text-align: right;\n",
       "    }\n",
       "</style>\n",
       "<table border=\"1\" class=\"dataframe\">\n",
       "  <thead>\n",
       "    <tr style=\"text-align: right;\">\n",
       "      <th></th>\n",
       "      <th>Bayesian Linear</th>\n",
       "      <th>Lasso</th>\n",
       "      <th>Ridge</th>\n",
       "      <th>Linear</th>\n",
       "      <th>Random Forest</th>\n",
       "      <th>RANSAC</th>\n",
       "      <th>SVR</th>\n",
       "      <th>Predicted</th>\n",
       "      <th>Gross</th>\n",
       "    </tr>\n",
       "  </thead>\n",
       "  <tbody>\n",
       "    <tr>\n",
       "      <th>4</th>\n",
       "      <td>2.1</td>\n",
       "      <td>2.1</td>\n",
       "      <td>2.1</td>\n",
       "      <td>2.1</td>\n",
       "      <td>2.2</td>\n",
       "      <td>1.6</td>\n",
       "      <td>2.2</td>\n",
       "      <td>2.1</td>\n",
       "      <td>0.84</td>\n",
       "    </tr>\n",
       "    <tr>\n",
       "      <th>5</th>\n",
       "      <td>4.8</td>\n",
       "      <td>4.9</td>\n",
       "      <td>4.8</td>\n",
       "      <td>4.8</td>\n",
       "      <td>4.2</td>\n",
       "      <td>2.7</td>\n",
       "      <td>3.6</td>\n",
       "      <td>4.8</td>\n",
       "      <td>0.79</td>\n",
       "    </tr>\n",
       "    <tr>\n",
       "      <th>6</th>\n",
       "      <td>4.3</td>\n",
       "      <td>4.4</td>\n",
       "      <td>4.2</td>\n",
       "      <td>4.2</td>\n",
       "      <td>4.1</td>\n",
       "      <td>2.7</td>\n",
       "      <td>3.4</td>\n",
       "      <td>4.2</td>\n",
       "      <td>0.93</td>\n",
       "    </tr>\n",
       "    <tr>\n",
       "      <th>11</th>\n",
       "      <td>4.3</td>\n",
       "      <td>4.7</td>\n",
       "      <td>4.1</td>\n",
       "      <td>4.1</td>\n",
       "      <td>4.9</td>\n",
       "      <td>3.2</td>\n",
       "      <td>3.6</td>\n",
       "      <td>4.1</td>\n",
       "      <td>0.71</td>\n",
       "    </tr>\n",
       "    <tr>\n",
       "      <th>13</th>\n",
       "      <td>3.5</td>\n",
       "      <td>3.8</td>\n",
       "      <td>3.4</td>\n",
       "      <td>3.4</td>\n",
       "      <td>2.2</td>\n",
       "      <td>2.9</td>\n",
       "      <td>3.3</td>\n",
       "      <td>3.4</td>\n",
       "      <td>4.11</td>\n",
       "    </tr>\n",
       "  </tbody>\n",
       "</table>\n",
       "</div>"
      ],
      "text/plain": [
       "    Bayesian Linear  Lasso  Ridge  Linear  Random Forest  RANSAC  SVR  \\\n",
       "4               2.1    2.1    2.1     2.1            2.2     1.6  2.2   \n",
       "5               4.8    4.9    4.8     4.8            4.2     2.7  3.6   \n",
       "6               4.3    4.4    4.2     4.2            4.1     2.7  3.4   \n",
       "11              4.3    4.7    4.1     4.1            4.9     3.2  3.6   \n",
       "13              3.5    3.8    3.4     3.4            2.2     2.9  3.3   \n",
       "\n",
       "    Predicted  Gross  \n",
       "4         2.1   0.84  \n",
       "5         4.8   0.79  \n",
       "6         4.2   0.93  \n",
       "11        4.1   0.71  \n",
       "13        3.4   4.11  "
      ]
     },
     "execution_count": 12,
     "metadata": {},
     "output_type": "execute_result"
    }
   ],
   "source": [
    "predicted_1=model_1.predict(test_independent.values)\n",
    "predicted_1=pd.DataFrame(predicted_1,columns=['Bayesian Linear'])\n",
    "predicted_2=model_2.predict(test_independent.values)\n",
    "predicted_2=pd.DataFrame(predicted_2,columns=['Lasso'])\n",
    "predicted_3=model_3.predict(test_independent.values)\n",
    "predicted_3=pd.DataFrame(predicted_3,columns=['Ridge'])\n",
    "predicted_4=model_4.predict(test_independent.values)\n",
    "predicted_4=pd.DataFrame(predicted_4,columns=['Linear'])\n",
    "predicted_5=model_5.predict(test_independent.values)\n",
    "predicted_5=pd.DataFrame(predicted_5,columns=['Random Forest'])\n",
    "predicted_6=model_6.predict(test_independent.values)\n",
    "predicted_6=pd.DataFrame(predicted_6,columns=['RANSAC'])\n",
    "predicted_7=model_7.predict(test_independent.values)\n",
    "predicted_7=pd.DataFrame(predicted_7,columns=['SVR'])\n",
    "predicted_1['Bayesian Linear'] = predicted_1['Bayesian Linear'].round(1)\n",
    "predicted_2['Lasso'] = predicted_2['Lasso'].round(1)\n",
    "predicted_3['Ridge'] = predicted_3['Ridge'].round(1)\n",
    "predicted_4['Linear'] = predicted_4['Linear'].round(1)\n",
    "predicted_5['Random Forest'] = predicted_5['Random Forest'].round(1)\n",
    "predicted_6['RANSAC'] = predicted_6['RANSAC'].round(1)\n",
    "predicted_7['SVR'] = predicted_7['SVR'].round(1)\n",
    "predicted_df=pd.concat([predicted_1,predicted_2,predicted_3,predicted_4,predicted_5,predicted_6,predicted_7,],axis=1,join='inner')\n",
    "pred=predicted_df.mode(axis=1)\n",
    "predicted=pd.DataFrame(pred[0])\n",
    "predicted=predicted.rename(columns={0:'Predicted'})\n",
    "predicted\n",
    "actual=test_dependent\n",
    "actual.rename(columns={'label':'Actual'},inplace=True)\n",
    "prediction_df=pd.concat([predicted_1,predicted_2,predicted_3,predicted_4,predicted_5,predicted_6,predicted_7,predicted,actual],axis=1,join='inner')\n",
    "prediction_df.head(5)"
   ]
  },
  {
   "cell_type": "markdown",
   "id": "14470965-d100-40e1-9906-f23c8020e5da",
   "metadata": {},
   "source": [
    "## Evaluating the Algorithm"
   ]
  },
  {
   "cell_type": "code",
   "execution_count": 13,
   "id": "aacf2924-a80d-4610-97e1-59aed8507a08",
   "metadata": {},
   "outputs": [
    {
     "name": "stdout",
     "output_type": "stream",
     "text": [
      "Mean Absolute Error: 1.4714383561643833\n",
      "Mean Squared Error: 5.753452739726026\n",
      "Root Mean Squared Error: 2.3986355996120015\n"
     ]
    }
   ],
   "source": [
    "from sklearn import metrics\n",
    "print('Mean Absolute Error:',metrics.mean_absolute_error(actual,predicted))\n",
    "print('Mean Squared Error:',metrics.mean_squared_error(actual,predicted))\n",
    "print('Root Mean Squared Error:',np.sqrt(metrics.mean_squared_error(actual,predicted)))"
   ]
  },
  {
   "cell_type": "code",
   "execution_count": 14,
   "id": "4210eca8-9192-4ed8-80cb-8d75ded7080c",
   "metadata": {},
   "outputs": [
    {
     "name": "stdout",
     "output_type": "stream",
     "text": [
      "0.4522582517722412\n",
      "0.39651714030323904\n",
      "0.45935596628237796\n",
      "0.45949283718498457\n",
      "0.4952853516619381\n",
      "0.17622850013469937\n",
      "0.22859636856912902\n"
     ]
    }
   ],
   "source": [
    "print(model_1.score(test_independent,test_dependent))\n",
    "print(model_2.score(test_independent,test_dependent))\n",
    "print(model_3.score(test_independent,test_dependent))\n",
    "print(model_4.score(test_independent,test_dependent))\n",
    "print(model_5.score(test_independent,test_dependent))\n",
    "print(model_6.score(test_independent,test_dependent))\n",
    "print(model_7.score(test_independent,test_dependent))"
   ]
  },
  {
   "cell_type": "code",
   "execution_count": 15,
   "id": "2936f4d2-7828-4745-a4a6-f93421499010",
   "metadata": {},
   "outputs": [
    {
     "name": "stdout",
     "output_type": "stream",
     "text": [
      "   MPAA Rating   Budget  Genre  Runtime  Rating\n",
      "0           92  1000000      4       92     8.6\n"
     ]
    },
    {
     "name": "stderr",
     "output_type": "stream",
     "text": [
      "C:\\ProgramData\\anaconda3\\Lib\\site-packages\\sklearn\\base.py:464: UserWarning: X does not have valid feature names, but RandomForestRegressor was fitted with feature names\n",
      "  warnings.warn(\n"
     ]
    },
    {
     "data": {
      "text/plain": [
       "array([12.1812])"
      ]
     },
     "execution_count": 15,
     "metadata": {},
     "output_type": "execute_result"
    }
   ],
   "source": [
    "import pandas as pd\n",
    "\n",
    "new_data={\n",
    "    'MPAA Rating':[92],\n",
    "    'Budget':[1000000],\n",
    "    'Genre':[4],\n",
    "    'Runtime':[92],\n",
    "    'Rating':[8.6]\n",
    "    \n",
    "}\n",
    "\n",
    "test_data=pd.DataFrame(new_data)\n",
    "\n",
    "print(test_data)\n",
    "\n",
    "predicted_value=model_5.predict(test_data.values)\n",
    "predicted_value"
   ]
  },
  {
   "cell_type": "code",
   "execution_count": null,
   "id": "f75d57d3",
   "metadata": {},
   "outputs": [],
   "source": []
  }
 ],
 "metadata": {
  "kernelspec": {
   "display_name": "Python 3 (ipykernel)",
   "language": "python",
   "name": "python3"
  },
  "language_info": {
   "codemirror_mode": {
    "name": "ipython",
    "version": 3
   },
   "file_extension": ".py",
   "mimetype": "text/x-python",
   "name": "python",
   "nbconvert_exporter": "python",
   "pygments_lexer": "ipython3",
   "version": "3.11.5"
  }
 },
 "nbformat": 4,
 "nbformat_minor": 5
}
